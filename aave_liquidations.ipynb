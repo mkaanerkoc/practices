{
  "nbformat": 4,
  "nbformat_minor": 0,
  "metadata": {
    "colab": {
      "provenance": [],
      "authorship_tag": "ABX9TyPDZzq6nhStwDBSd/whNdcI",
      "include_colab_link": true
    },
    "kernelspec": {
      "name": "python3",
      "display_name": "Python 3"
    },
    "language_info": {
      "name": "python"
    }
  },
  "cells": [
    {
      "cell_type": "markdown",
      "metadata": {
        "id": "view-in-github",
        "colab_type": "text"
      },
      "source": [
        "<a href=\"https://colab.research.google.com/github/mkaanerkoc/practices/blob/main/aave_liquidations.ipynb\" target=\"_parent\"><img src=\"https://colab.research.google.com/assets/colab-badge.svg\" alt=\"Open In Colab\"/></a>"
      ]
    },
    {
      "cell_type": "code",
      "execution_count": null,
      "metadata": {
        "id": "2oZbGi04r3Er"
      },
      "outputs": [],
      "source": [
        "!pip install web3\n",
        "!pip install etherscan-python\n"
      ]
    },
    {
      "cell_type": "code",
      "source": [
        "!pip install --force-reinstall protobuf==3.19.5"
      ],
      "metadata": {
        "id": "FzkIPkUDcpiL"
      },
      "execution_count": null,
      "outputs": []
    },
    {
      "cell_type": "code",
      "source": [
        "from collections import (\n",
        "    defaultdict,\n",
        "    Counter,\n",
        ")\n",
        "\n",
        "import pandas as pd\n",
        "\n",
        "import requests\n",
        "import etherscan\n",
        "from web3 import Web3\n",
        "from etherscan import Etherscan\n",
        "\n",
        "import json\n",
        "import yaml"
      ],
      "metadata": {
        "id": "5wJRUjzzsPQZ"
      },
      "execution_count": null,
      "outputs": []
    },
    {
      "cell_type": "code",
      "source": [
        "ETHER_API_KEY = '################'\n",
        "INFURA_KEY = 'https://mainnet.infura.io/v3/#####################'\n",
        "\n",
        "LENDING_POOL = '0x7d2768dE32b0b80b7a3454c06BdAc94A69DDc7A9'\n",
        "PROXY_CONTRACT = '0xC6845a5C768BF8D7681249f8927877Efda425baf'\n",
        "\n",
        "eth_scan = Etherscan(ETHER_API_KEY)\n",
        "w3 = Web3(Web3.HTTPProvider(INFURA_KEY))\n",
        "\n",
        "proxy_contract_abi = eth_scan.get_contract_abi(address=PROXY_CONTRACT)\n",
        "proxy_contract = w3.eth.contract(PROXY_CONTRACT, abi=proxy_contract_abi)\n",
        "\n",
        "pool_contract_abi = eth_scan.get_contract_abi(address=LENDING_POOL)\n",
        "pool_contract = w3.eth.contract(LENDING_POOL, abi=proxy_contract_abi)"
      ],
      "metadata": {
        "id": "ebTB-npxsulJ"
      },
      "execution_count": null,
      "outputs": []
    },
    {
      "cell_type": "code",
      "source": [
        "txs = eth_scan.get_normal_txs_by_address(address=LENDING_POOL, startblock=15506004, endblock=99999999, sort='asc')"
      ],
      "metadata": {
        "id": "O-tkSPm4tryc"
      },
      "execution_count": null,
      "outputs": []
    },
    {
      "cell_type": "code",
      "source": [
        "incoming_txs = list(filter(lambda x: x['to'] == LENDING_POOL.lower(), txs))\n",
        "\n",
        "function_calls = Counter(map(lambda x: x['functionName'].split('(')[0], incoming_txs))\n",
        "liquidation_txs = list(filter(lambda x: x['functionName'].find('liquidationCall') != -1, incoming_txs))\n",
        "borrow_txs = list(filter(lambda x: x['functionName'].find('borrow') != -1, incoming_txs))\n",
        "repay_txs = list(filter(lambda x: x['functionName'].find('repay') != -1, incoming_txs))\n",
        "\n",
        "borrowers = list(map(lambda x: x['from'], borrow_txs))\n",
        "repayers = list(map(lambda x: x['from'], repay_txs))\n",
        "\n",
        "print(f'Total borrowing : {len(borrowers)}, Borrowers : {len(set(borrowers))}')\n",
        "print(f'Total repaying : {len(repayers)}, Repayers : {len(set(repayers))}')\n",
        "\n",
        "print(function_calls)"
      ],
      "metadata": {
        "id": "Y8Uk2QHJuLl4"
      },
      "execution_count": null,
      "outputs": []
    },
    {
      "cell_type": "code",
      "source": [
        "borrow_tx_inputs = []\n",
        "\n",
        "for borrow_tx in borrow_txs:\n",
        "  func_obj, func_params = proxy_contract.decode_function_input(borrow_tx[\"input\"])\n",
        "  borrow_tx_inputs.append((borrow_tx['from'], func_params))"
      ],
      "metadata": {
        "id": "QGxgdUvPueJN"
      },
      "execution_count": null,
      "outputs": []
    },
    {
      "cell_type": "code",
      "source": [
        "differentBorrower = list(filter( lambda x: x[0].lower() != x[1]['onBehalfOf'].lower(), borrow_tx_inputs))\n",
        "\n",
        "print(differentBorrower)\n",
        "# assert all([borrower.lower() == args['onBehalfOf'].lower() for (borrower, args) in borrow_tx_inputs]), \"borrower is not same as 'onBehalfOf' parameter\""
      ],
      "metadata": {
        "id": "f22DtxiExACQ"
      },
      "execution_count": null,
      "outputs": []
    },
    {
      "cell_type": "code",
      "source": [
        "borrowers[0]"
      ],
      "metadata": {
        "id": "ztkxxoB74WoO"
      },
      "execution_count": null,
      "outputs": []
    },
    {
      "cell_type": "markdown",
      "source": [
        "## Analyzing the liqudation calls"
      ],
      "metadata": {
        "id": "FUU0m9Xtd1lD"
      }
    },
    {
      "cell_type": "code",
      "source": [
        "liqudation_tx_inputs = []\n",
        "for liq_tx in liquidation_txs:\n",
        "  func_obj, func_params = proxy_contract.decode_function_input(liq_tx[\"input\"])\n",
        "  liqudation_tx_inputs.append((liq_tx['from'], func_params))"
      ],
      "metadata": {
        "id": "3bCFBjEIdE1h"
      },
      "execution_count": null,
      "outputs": []
    },
    {
      "cell_type": "code",
      "source": [
        "liqudation_tx_inputs[0:10]"
      ],
      "metadata": {
        "id": "Jpq2cyfwenuH"
      },
      "execution_count": null,
      "outputs": []
    },
    {
      "cell_type": "markdown",
      "source": [
        "### Fetching borrower's account data by calling 'getUserAccountData' function"
      ],
      "metadata": {
        "id": "q62dDw3qd-G4"
      }
    },
    {
      "cell_type": "code",
      "source": [
        "borrower_account_data = []\n",
        "for borrower in set(borrowers):\n",
        "  res = pool_contract.functions.getUserAccountData(Web3.toChecksumAddress(borrower)).call()\n",
        "  res.append(borrower)\n",
        "  borrower_account_data.append(res)"
      ],
      "metadata": {
        "id": "pJrGToAh7A9_"
      },
      "execution_count": null,
      "outputs": []
    },
    {
      "cell_type": "code",
      "source": [
        "def convert_to_eth(wei):\n",
        "  if isinstance(wei, str):\n",
        "    return Web3.fromWei(int(wei), \"ether\")\n",
        "  elif isinstance(wei, int):\n",
        "    return Web3.fromWei(wei, \"ether\")\n",
        "\n",
        "def process_account_data(account_data):\n",
        "  account_data[0] = convert_to_eth(account_data[0])\n",
        "  account_data[1] = convert_to_eth(account_data[1])\n",
        "  account_data[2] = convert_to_eth(account_data[2])\n",
        "  account_data[5] = convert_to_eth(account_data[5])\n",
        "  return account_data\n",
        "\n",
        "processed_account_data = list(map(process_account_data, borrower_account_data))\n"
      ],
      "metadata": {
        "id": "b5KnSYHb-lEL"
      },
      "execution_count": null,
      "outputs": []
    },
    {
      "cell_type": "code",
      "source": [
        "dd = pd.DataFrame(processed_account_data, columns=['collateral', 'debt', 'available_borrow', 'liq_threshold', 'ltv', 'health_factor', 'address'])\n",
        "dd['liq_threshold'] = dd['liq_threshold'] / 10000\n",
        "dd['ltv'] = dd['ltv'] / 10000\n",
        "dd.head()"
      ],
      "metadata": {
        "id": "TLF7OsTPNr_q"
      },
      "execution_count": null,
      "outputs": []
    },
    {
      "cell_type": "code",
      "source": [
        "borrower_account_data = pd.read_csv('borrowers_account_info.csv', index_col=[0]).values.tolist()\n",
        "borrower_account_data[0:2]"
      ],
      "metadata": {
        "id": "8MGHiCE0GgyP"
      },
      "execution_count": null,
      "outputs": []
    },
    {
      "cell_type": "code",
      "source": [
        "dd.to_csv('borrowers_account_info.csv')"
      ],
      "metadata": {
        "id": "TZc_GbwjKfCH"
      },
      "execution_count": null,
      "outputs": []
    },
    {
      "cell_type": "code",
      "source": [
        "bb = dd[dd['health_factor'] < 1.05]\n",
        "bb = bb[bb['collateral']>0.5]\n",
        "bb['debt_limit'] = bb['collateral'].astype(float) * bb['liq_threshold']\n",
        "bb = bb.sort_values(by=['health_factor', 'collateral'], ascending=[True, False])"
      ],
      "metadata": {
        "id": "kOPpSRAHDZUQ"
      },
      "execution_count": null,
      "outputs": []
    },
    {
      "cell_type": "code",
      "source": [
        "bb"
      ],
      "metadata": {
        "id": "esi3BMk5C_dH"
      },
      "execution_count": null,
      "outputs": []
    }
  ]
}